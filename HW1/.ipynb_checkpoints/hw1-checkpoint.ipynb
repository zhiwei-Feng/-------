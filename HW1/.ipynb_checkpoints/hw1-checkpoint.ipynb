{
 "cells": [
  {
   "cell_type": "markdown",
   "metadata": {},
   "source": [
    "![1](1.png)"
   ]
  },
  {
   "cell_type": "markdown",
   "metadata": {},
   "source": [
    "answer:(ii),(iv),(v)\n",
    "\n",
    "reason:(i)存在既定的规则, (iii)知道初始速度，空气阻力，重力，高度即可算出"
   ]
  },
  {
   "cell_type": "markdown",
   "metadata": {},
   "source": [
    "![2](2.png)"
   ]
  },
  {
   "cell_type": "markdown",
   "metadata": {},
   "source": [
    "answer: reinforcement learning,围棋是典型的强化学习"
   ]
  },
  {
   "cell_type": "markdown",
   "metadata": {},
   "source": [
    "![3](3.png)"
   ]
  },
  {
   "cell_type": "markdown",
   "metadata": {},
   "source": [
    "answer:unsupervised learning(因为没有预先定义好的主题，属于从无标签数据中学习)"
   ]
  },
  {
   "cell_type": "markdown",
   "metadata": {},
   "source": [
    "![](4.png)"
   ]
  },
  {
   "cell_type": "markdown",
   "metadata": {},
   "source": [
    "answer: supervised learning\n",
    "\n",
    "reason: 训练数据是有标签的"
   ]
  },
  {
   "cell_type": "markdown",
   "metadata": {},
   "source": [
    "![](5.png)"
   ]
  },
  {
   "cell_type": "markdown",
   "metadata": {},
   "source": [
    "answer: active learning\n",
    "\n",
    "reason: 实验次数相对很少，所以样本是部分有标签，部分没有，属于半监督学习，遇到机器无法判断的时候在通过人工判别，是主动学习"
   ]
  },
  {
   "cell_type": "markdown",
   "metadata": {},
   "source": [
    "![](6.png)"
   ]
  },
  {
   "cell_type": "markdown",
   "metadata": {},
   "source": [
    "answer: $\\frac{1}{L} \\times\\left(\\left\\lfloor\\frac{N+L}{2}\\right\\rfloor-\\left\\lfloor\\frac{N}{2}\\right\\rfloor\\right)$\n",
    "\n",
    "reason: 1.f(x) = +1 对任意x都成立，2.g(x)=-1 对下标偶数位的x成立，3.因此$E_{OTS}$的值就是（N+L）中偶数x的个数减去前（N）个中偶数x的个数"
   ]
  },
  {
   "cell_type": "markdown",
   "metadata": {},
   "source": [
    "![](7.png)"
   ]
  },
  {
   "cell_type": "markdown",
   "metadata": {},
   "source": [
    "answer: $2^L$\n",
    "\n",
    "reason: 某一个f(x)产生D就意味着前面N个数据都满足f(xn)=yn，但是后面L个元素要不相同，所以是$2^L$个"
   ]
  },
  {
   "cell_type": "markdown",
   "metadata": {},
   "source": [
    "![](8.png)"
   ]
  },
  {
   "cell_type": "markdown",
   "metadata": {},
   "source": [
    "answer：$\\mathbb{E}_{f}\\left\\{\\operatorname{E}_{O T S}\\left(\\mathcal{A}_{1}(\\mathcal{D}), f\\right)\\right\\}=\\mathbb{E}_{f}\\left\\{\\operatorname{E}_{\\mathcal{O} T S}\\left(\\mathcal{A}_{2}(\\mathcal{D}), f\\right)\\right\\}$\n",
    "\n",
    "reason：Ef表示f的期望，因为可以产生D的f如7题所说有$2^L$，且都是等概率的，那么根据no free lunch理论，可以知道，不管是什么算法A得到的$E_{OTS}$，其期望都该是相等的。"
   ]
  },
  {
   "cell_type": "markdown",
   "metadata": {},
   "source": [
    "![](9.png)"
   ]
  },
  {
   "cell_type": "markdown",
   "metadata": {},
   "source": [
    "answer: 0.24\n",
    "\n",
    "reason: 原来的罐子里橘色的站1/2，另外一种颜色（默认是绿色）占1/2，所以$\\nu=\\mu$的概率就是取出10个球其中5个橘色的概率，即$\\binom{10}{5}\\times\\frac{1}{2^{10}} = 0.24$"
   ]
  },
  {
   "cell_type": "markdown",
   "metadata": {},
   "source": [
    "![](10.png)"
   ]
  },
  {
   "cell_type": "markdown",
   "metadata": {},
   "source": [
    "answer: 0.39\n",
    "\n",
    "reason: 做法同上一题，$\\binom{10}{9}\\times0.9^9\\times0.1 = 0.39$"
   ]
  },
  {
   "cell_type": "markdown",
   "metadata": {},
   "source": [
    "![](11.png)"
   ]
  },
  {
   "cell_type": "markdown",
   "metadata": {},
   "source": [
    "answer: $9.1 \\times 10^{-9}$\n",
    "\n",
    "reason: 做法同上，就是求10个样本1个橘色的和0个橘色两种情况的概率的和"
   ]
  },
  {
   "cell_type": "markdown",
   "metadata": {},
   "source": [
    "![](12.png)"
   ]
  },
  {
   "cell_type": "markdown",
   "metadata": {},
   "source": [
    "answer: $5.52 \\times 10^{-6}$\n",
    "\n",
    "reason: 直接套用Hoeffding公式$P\\{|\\mu-\\nu| \\geq \\epsilon\\}\\leq2e^{-2\\epsilon^2N}$"
   ]
  },
  {
   "cell_type": "markdown",
   "metadata": {},
   "source": [
    "![](13.png)"
   ]
  },
  {
   "cell_type": "markdown",
   "metadata": {},
   "source": [
    "answer: $\\frac{8}{256}$\n",
    "\n",
    "reason: 取5个骰子，且1的那面都是橘色的，那么这5个骰子都是B,C两种类型的，且四种类型的概率都1/4，所以概率$P=\\frac{\\binom{5}{0}+\\binom{5}{1}+\\binom{5}{2}+\\binom{5}{3}+\\binom{5}{4}+\\binom{5}{5}}{4^5}$"
   ]
  },
  {
   "cell_type": "markdown",
   "metadata": {},
   "source": [
    "![](14.png)"
   ]
  },
  {
   "cell_type": "markdown",
   "metadata": {},
   "source": [
    "answer: $\\frac{31}{256}$\n",
    "\n",
    "reason: 由上题，可知仅两种类型被取出的可能性为$\\frac{32}{4^5}$，而某个数字全是橘色的可能，只有取出的骰子类型为AC,AD,BC,BD，共$\\frac{32*4}{4^5}$，其中取出的骰子类型全是A,B,C,D的情况计算了两次，所以最终的概率为$\\frac{31*4}{4^5} = \\frac{31}{256}$"
   ]
  },
  {
   "cell_type": "markdown",
   "metadata": {},
   "source": [
    "![](15.png)"
   ]
  },
  {
   "cell_type": "markdown",
   "metadata": {},
   "source": [
    "answer: 45(31-50)\n",
    "\n",
    "reason: 参考[15](no15.py)"
   ]
  },
  {
   "cell_type": "markdown",
   "metadata": {},
   "source": [
    "![](16.png)"
   ]
  },
  {
   "cell_type": "markdown",
   "metadata": {},
   "source": [
    "answer: 40(31-50)\n",
    "\n",
    "reason: 参考[16](no16.py), 注意2000次实验中每一次的随机因子是不同的"
   ]
  },
  {
   "cell_type": "markdown",
   "metadata": {},
   "source": [
    "![](17.png)"
   ]
  },
  {
   "cell_type": "markdown",
   "metadata": {},
   "source": [
    "answer: 40\n",
    "\n",
    "reason: 相比于16题，只是将学习率从1修改成0.5，但是结果不变"
   ]
  },
  {
   "cell_type": "markdown",
   "metadata": {},
   "source": [
    "![](18.png)"
   ]
  },
  {
   "cell_type": "markdown",
   "metadata": {},
   "source": [
    "answer: 0.11146\n",
    "\n",
    "reason: 参考[18](no18.py)"
   ]
  },
  {
   "cell_type": "markdown",
   "metadata": {},
   "source": [
    "![](19.png)"
   ]
  },
  {
   "cell_type": "markdown",
   "metadata": {},
   "source": [
    "answer: 0.23\n",
    "\n",
    "reason: 参考[19](no19.py)"
   ]
  },
  {
   "cell_type": "markdown",
   "metadata": {},
   "source": [
    "![](20.png)"
   ]
  },
  {
   "cell_type": "markdown",
   "metadata": {},
   "source": [
    "answer: 0.11\n",
    "\n",
    "reason: 参考[20](no20.py), 只需要在第18题的基础上修改最大修改次数从50到100即可。"
   ]
  },
  {
   "cell_type": "code",
   "execution_count": null,
   "metadata": {},
   "outputs": [],
   "source": []
  }
 ],
 "metadata": {
  "kernelspec": {
   "display_name": "Python 3",
   "language": "python",
   "name": "python3"
  },
  "language_info": {
   "codemirror_mode": {
    "name": "ipython",
    "version": 3
   },
   "file_extension": ".py",
   "mimetype": "text/x-python",
   "name": "python",
   "nbconvert_exporter": "python",
   "pygments_lexer": "ipython3",
   "version": "3.7.4"
  }
 },
 "nbformat": 4,
 "nbformat_minor": 2
}
