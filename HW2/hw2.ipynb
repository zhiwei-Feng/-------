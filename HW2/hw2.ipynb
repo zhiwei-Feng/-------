{
 "cells": [
  {
   "cell_type": "markdown",
   "metadata": {},
   "source": [
    "![](1.png)"
   ]
  },
  {
   "cell_type": "markdown",
   "metadata": {},
   "source": [
    "answer: $\\lambda\\mu + (1 - \\lambda)(1 - \\mu)$\n",
    "\n",
    "reason: 在无噪声的情况下，f和g之间的错误为$\\mu$，有噪声的情况下则分为两种情况，一种是$f \\neq g \\& y = f(x)$，一种是$f = g \\& y \\neq f(x)$"
   ]
  },
  {
   "cell_type": "markdown",
   "metadata": {},
   "source": [
    "![](2.png)"
   ]
  },
  {
   "cell_type": "markdown",
   "metadata": {},
   "source": [
    "answer: 0.5\n",
    "\n",
    "reason: \n",
    "将上题的结果展开，得$\n",
    "(2\\lambda-1)\\mu+1-\\lambda\n",
    "$则要使error和$\\mu$独立，则$\\lambda=0.5$"
   ]
  },
  {
   "cell_type": "markdown",
   "metadata": {},
   "source": [
    "![](3.png)"
   ]
  },
  {
   "cell_type": "code",
   "execution_count": 4,
   "metadata": {},
   "outputs": [
    {
     "data": {
      "image/png": "[encoded data removed]",
      "text/plain": [
       "<Figure size 432x288 with 1 Axes>"
      ]
     },
     "metadata": {
      "needs_background": "light"
     },
     "output_type": "display_data"
    }
   ],
   "source": [
    "import matplotlib.pyplot as plt\n",
    "import numpy as np\n",
    "\n",
    "def f(N):\n",
    "    return 4*((2*N)**10)*np.exp(-0.125*N*(0.05**2))\n",
    "              \n",
    "t = np.arange(440000, 500000, 0.1)\n",
    "plt.ylim([0,0.1])\n",
    "plt.plot(t, f(t))\n",
    "plt.show()"
   ]
  },
  {
   "cell_type": "markdown",
   "metadata": {},
   "source": [
    "又上可知，f(N)=0.05的位置，N处于450000到460000之间，所以最近的是460000"
   ]
  },
  {
   "cell_type": "markdown",
   "metadata": {},
   "source": [
    "![](4.png)"
   ]
  },
  {
   "cell_type": "code",
   "execution_count": 5,
   "metadata": {},
   "outputs": [
    {
     "name": "stdout",
     "output_type": "stream",
     "text": [
      "0.632174915200836\n",
      "0.3313087859616395\n",
      "0.22388082079534866\n",
      "0.21558563773901224\n",
      "0.8604259707062739\n"
     ]
    }
   ],
   "source": [
    "import math\n",
    "\n",
    "\n",
    "def original(N=10000, dvc=50, delta=0.05):\n",
    "    return math.sqrt(8/N*math.log(4*((2*N)**dvc)/delta))\n",
    "\n",
    "def Rade(N=10000, dvc=50, delta=0.05):\n",
    "    return math.sqrt(2*math.log(2*N*(N**dvc))/N) + math.sqrt(2/N*math.log(1/delta)) + 1/N\n",
    "\n",
    "def Par(N=10000, dvc=50, delta=0.05):\n",
    "    return math.sqrt(1/N*(2*original() + math.log(6/delta*((2*N)**dvc))))\n",
    "\n",
    "def Devr(N=10000, dvc=50, delta=0.05):\n",
    "    return math.sqrt(1/(2*N)*(4*original()*(1+original()) + math.log(4/delta) + dvc*math.log(N**2)))\n",
    "\n",
    "def VarVC(N=10000, dvc=50, delta=0.05):\n",
    "    return math.sqrt(16/N*math.log(2/math.sqrt(delta)*(N**dvc)))\n",
    "\n",
    "epsilon = original()\n",
    "print(original())\n",
    "print(Rade())\n",
    "print(Par())\n",
    "print(Devr())\n",
    "print(VarVC())"
   ]
  },
  {
   "cell_type": "markdown",
   "metadata": {},
   "source": [
    "Devroye的结果最小"
   ]
  },
  {
   "cell_type": "markdown",
   "metadata": {},
   "source": [
    "![](5.png)"
   ]
  },
  {
   "cell_type": "code",
   "execution_count": 6,
   "metadata": {},
   "outputs": [
    {
     "name": "stdout",
     "output_type": "stream",
     "text": [
      "13.828161484991483\n",
      "7.048776564183685\n",
      "5.432735395037518\n",
      "9.92728897553636\n",
      "16.264111061012045\n"
     ]
    }
   ],
   "source": [
    "import math\n",
    "\n",
    "\n",
    "def original(N=5, dvc=50, delta=0.05):\n",
    "    return math.sqrt(8/N*math.log(4*((2*N)**dvc)/delta))\n",
    "\n",
    "def Rade(N=5, dvc=50, delta=0.05):\n",
    "    return math.sqrt(2*math.log(2*N*(N**dvc))/N) + math.sqrt(2/N*math.log(1/delta)) + 1/N\n",
    "\n",
    "def Par(N=5, dvc=50, delta=0.05):\n",
    "    return math.sqrt(1/N*(2*original() + math.log(6/delta*((2*N)**dvc))))\n",
    "\n",
    "def Devr(N=5, dvc=50, delta=0.05):\n",
    "    return math.sqrt(1/(2*N)*(4*original()*(1+original()) + math.log(4/delta) + dvc*math.log(N**2)))\n",
    "\n",
    "def VarVC(N=5, dvc=50, delta=0.05):\n",
    "    return math.sqrt(16/N*math.log(2/math.sqrt(delta)*(N**dvc)))\n",
    "\n",
    "epsilon = original()\n",
    "print(original())\n",
    "print(Rade())\n",
    "print(Par())\n",
    "print(Devr())\n",
    "print(VarVC())"
   ]
  },
  {
   "cell_type": "markdown",
   "metadata": {},
   "source": [
    "Parrondo and Van den Broek的结果最小"
   ]
  },
  {
   "cell_type": "markdown",
   "metadata": {},
   "source": [
    "![](6.png)"
   ]
  },
  {
   "cell_type": "markdown",
   "metadata": {},
   "source": [
    "answer: $N^2 - N + 2$\n",
    "\n",
    "reason: 根据positive intervals on R的成长函数是$\\frac{1}{2}N^2+\\frac{1}{2}N+1$，则positive-and-negative intervals的成长函数就是x2再减去2N得到，通过数学归纳法推出"
   ]
  },
  {
   "cell_type": "markdown",
   "metadata": {},
   "source": [
    "![](7.png)"
   ]
  },
  {
   "cell_type": "markdown",
   "metadata": {},
   "source": [
    "answer: 3\n",
    "\n",
    "reason: 将上题的结果和$2^N$比对，求$\\underset{N}{\\operatorname{argmax}}\\{N^2-N+2 = 2^N\\}$"
   ]
  },
  {
   "cell_type": "markdown",
   "metadata": {},
   "source": [
    "![](8.png)"
   ]
  },
  {
   "cell_type": "markdown",
   "metadata": {},
   "source": [
    "answer: $\\binom{N+1}{2}+1$\n",
    "\n",
    "reason: 容易看出这就是一个positive intervals模型"
   ]
  },
  {
   "cell_type": "markdown",
   "metadata": {},
   "source": [
    "![](9.png)"
   ]
  },
  {
   "cell_type": "markdown",
   "metadata": {},
   "source": [
    "answer: D+1\n",
    "\n",
    "reason: 这个题目我这里给出我自己的理解，不一定正确。如下：对于一个最高项次数为D的多项式，最多可有D个解，因此可以分割成D+1个区间进行点的划分，也就是说可以将D+1个点shattered。"
   ]
  },
  {
   "cell_type": "code",
   "execution_count": null,
   "metadata": {},
   "outputs": [],
   "source": []
  }
 ],
 "metadata": {
  "kernelspec": {
   "display_name": "Python 3",
   "language": "python",
   "name": "python3"
  },
  "language_info": {
   "codemirror_mode": {
    "name": "ipython",
    "version": 3
   },
   "file_extension": ".py",
   "mimetype": "text/x-python",
   "name": "python",
   "nbconvert_exporter": "python",
   "pygments_lexer": "ipython3",
   "version": "3.7.4"
  }
 },
 "nbformat": 4,
 "nbformat_minor": 2
}
