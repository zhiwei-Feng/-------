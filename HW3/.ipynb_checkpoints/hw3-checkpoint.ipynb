{
 "cells": [
  {
   "cell_type": "markdown",
   "metadata": {},
   "source": [
    "![](1.png)"
   ]
  },
  {
   "cell_type": "markdown",
   "metadata": {},
   "source": [
    "将0.008代入算的N>=45，则取N=100"
   ]
  },
  {
   "cell_type": "markdown",
   "metadata": {},
   "source": [
    "![](2.png)"
   ]
  },
  {
   "cell_type": "markdown",
   "metadata": {},
   "source": [
    "这个课堂上有一张PPT解释了这个![](2-1.png)"
   ]
  },
  {
   "cell_type": "markdown",
   "metadata": {},
   "source": [
    "H的作用就是表示将y投影到y_hat的变化过程，投影一次和投影多次的效果是一样的，所以$H^{1126}=H$"
   ]
  },
  {
   "cell_type": "markdown",
   "metadata": {},
   "source": [
    "![](3.png)"
   ]
  },
  {
   "cell_type": "markdown",
   "metadata": {},
   "source": [
    "假设y=+1，以横坐标为$w^Tx$，纵坐标为err(w)画图，可知，$err(w) = max(0, 1-yw^Tx)$是上界"
   ]
  },
  {
   "cell_type": "markdown",
   "metadata": {},
   "source": [
    "![](4.png)"
   ]
  },
  {
   "cell_type": "markdown",
   "metadata": {},
   "source": [
    "题意要选在任意点都可以微分即可导的只有$err(w) = \\frac{1}{2}exp(-yw^Tx)$"
   ]
  },
  {
   "cell_type": "markdown",
   "metadata": {},
   "source": [
    "![](5.png)"
   ]
  },
  {
   "cell_type": "markdown",
   "metadata": {},
   "source": [
    "PLA的特征有，当$yw^Tx<0$时进行权重更新$w_t = w_{t-1} + y_nx_n$，忽略一些不可导的点，只有$err(w)=max(0, -yw^Tx)$满足条件"
   ]
  },
  {
   "cell_type": "markdown",
   "metadata": {},
   "source": [
    "![](6.png)"
   ]
  },
  {
   "cell_type": "markdown",
   "metadata": {},
   "source": [
    "$\\frac{\\partial E}{\\partial u} = e^u+ve^{uv}+2u-2v-3$\n",
    "\n",
    "$\\frac{\\partial E}{\\partial v} = 2e^{2v}+ue^{uv}-2u+4v-2$\n",
    "\n",
    "将(u,v)=(0,0)得(-2,0)"
   ]
  },
  {
   "cell_type": "markdown",
   "metadata": {},
   "source": [
    "![](7.png)"
   ]
  },
  {
   "cell_type": "code",
   "execution_count": 8,
   "metadata": {},
   "outputs": [
    {
     "name": "stdout",
     "output_type": "stream",
     "text": [
      "E(u_5,v_5)=2.8250003566832635\n"
     ]
    }
   ],
   "source": [
    "from math import exp\n",
    "u,v=0,0\n",
    "E_u, E_v = exp(u)+v*exp(u*v)+2*u-2*v-3, 2*exp(v)+u*exp(u*v)-2*u+4*v-2\n",
    "eta=0.01\n",
    "for i in range(5):\n",
    "    u,v = u-eta*E_u, v-eta*E_v\n",
    "    E_u, E_v = exp(u)+v*exp(u*v)+2*u-2*v-3, 2*exp(2*v)+u*exp(u*v)-2*u+4*v-2\n",
    "def E(u,v):\n",
    "    return exp(u)+exp(2*v)+exp(u*v)+u**2-2*u*v+2*(v**2)-3*u-2*v\n",
    "print(\"E(u_5,v_5)={}\".format(E(u,v)))"
   ]
  },
  {
   "cell_type": "markdown",
   "metadata": {},
   "source": [
    "![](8.png)"
   ]
  },
  {
   "cell_type": "markdown",
   "metadata": {},
   "source": [
    "二元函数的泰勒展开式参考[多元函数的泰勒展开式](https://blog.csdn.net/red_stone1/article/details/70260070)，由此根据6，7题可知\n",
    "\n",
    "$b_{uu} = \\frac{1}{2}E_{uu}^{''}(0,0) = 1.5$\n",
    "\n",
    "$b_{vv} = \\frac{1}{2}E_{vv}^{''}(0,0) = 4$\n",
    "\n",
    "$b_{uv} = E_{uv}^{''}(0,0) = -1$\n",
    "\n",
    "$b_u = E_u^{'}(0,0) = -2$\n",
    "\n",
    "$b_v = E_v^{'}(0,0) = 0$\n",
    "\n",
    "$b = E(0,0) = 3$"
   ]
  },
  {
   "cell_type": "markdown",
   "metadata": {},
   "source": [
    "![](9.png)"
   ]
  },
  {
   "cell_type": "markdown",
   "metadata": {},
   "source": [
    "本题参考[Newton's method in optimization](https://en.wikipedia.org/wiki/Newton%27s_method_in_optimization)中的High Dimensions部分"
   ]
  },
  {
   "cell_type": "markdown",
   "metadata": {},
   "source": [
    "![](10.png)"
   ]
  },
  {
   "cell_type": "markdown",
   "metadata": {},
   "source": [
    "将Newton method实现一遍即可"
   ]
  },
  {
   "cell_type": "code",
   "execution_count": 14,
   "metadata": {},
   "outputs": [
    {
     "name": "stdout",
     "output_type": "stream",
     "text": [
      "2.360823345643139\n"
     ]
    }
   ],
   "source": [
    "import numpy as np\n",
    "from math import exp\n",
    "X = np.array([0,0])\n",
    "def E(x):\n",
    "    return exp(x[0])+exp(2*x[1])+exp(x[0]*x[1])+x[0]**2-2*x[0]*x[1]+2*(x[1]**2)-3*x[0]-2*x[1]\n",
    "def grad(x):\n",
    "    return np.array([exp(x[0])+x[1]*exp(x[0]*x[1])+2*x[0]-2*x[1]-3, 2*exp(2*x[1])+x[0]*exp(x[0]*x[1])-2*x[0]+4*x[1]-2])\n",
    "def hessian(x):\n",
    "    return np.array([[exp(x[0])+(x[1]**2)*exp(x[0]*x[1])+2, exp(x[0]*x[1])+x[0]*x[1]*exp(x[0]*x[1])-2],\n",
    "                     [exp(x[0]*x[1])+x[0]*x[1]*exp(x[0]*x[1])-2, 4*exp(2*x[1])+(x[0]**2)*exp(x[0]*x[1])+4]])\n",
    "\n",
    "for i in range(5):\n",
    "    X = X - np.linalg.inv(hessian(X))@grad(X)\n",
    "print(E(X))"
   ]
  },
  {
   "cell_type": "markdown",
   "metadata": {},
   "source": [
    "![](11.png)"
   ]
  },
  {
   "cell_type": "markdown",
   "metadata": {},
   "source": [
    "题意找一个二次曲线，直线的组合能够shattered的最大输入向量集合，也就说利用多条直线和多条二次曲线将平面区域切割成多个不想交的区域，所以由题意易找到一个组合可以将6个点都分割在独立的区域中"
   ]
  },
  {
   "cell_type": "markdown",
   "metadata": {},
   "source": [
    "![](12.png)"
   ]
  },
  {
   "cell_type": "markdown",
   "metadata": {},
   "source": [
    "重点是理解题意,由题意$Z_1 = [1 0 0 0 0 ..] Z_2=[0 1 0 0 ..]$，因此$Z$实际上就是一个单位矩阵，所以$Z_n$之间是正交的，同时由于是正交的，所以在$Z_n$上是线性可分的, 对于$E_{out}$来说，因为所有的测试集都和训练集的$X_n$不同，所以transfromed后，y都是+1（sign(0)=+1）,但是题目说只有30%是+1，所以70%都是错误，所以$E_{out}=0.7$，这样一来，$E_{in}=0.7就是错误的$"
   ]
  },
  {
   "cell_type": "markdown",
   "metadata": {},
   "source": [
    "![](13.png)"
   ]
  },
  {
   "cell_type": "markdown",
   "metadata": {},
   "source": [
    "代码可以参考[实验代码](13.py)"
   ]
  },
  {
   "cell_type": "code",
   "execution_count": null,
   "metadata": {},
   "outputs": [],
   "source": []
  }
 ],
 "metadata": {
  "kernelspec": {
   "display_name": "Python 3",
   "language": "python",
   "name": "python3"
  },
  "language_info": {
   "codemirror_mode": {
    "name": "ipython",
    "version": 3
   },
   "file_extension": ".py",
   "mimetype": "text/x-python",
   "name": "python",
   "nbconvert_exporter": "python",
   "pygments_lexer": "ipython3",
   "version": "3.7.4"
  }
 },
 "nbformat": 4,
 "nbformat_minor": 2
}
