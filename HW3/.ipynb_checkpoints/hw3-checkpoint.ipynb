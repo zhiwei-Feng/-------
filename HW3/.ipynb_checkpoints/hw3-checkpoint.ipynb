{
 "cells": [
  {
   "cell_type": "markdown",
   "metadata": {},
   "source": [
    "![](1.png)"
   ]
  },
  {
   "cell_type": "markdown",
   "metadata": {},
   "source": [
    "将0.008代入算的N>=45，则取N=100"
   ]
  },
  {
   "cell_type": "markdown",
   "metadata": {},
   "source": [
    "![](2.png)"
   ]
  },
  {
   "cell_type": "markdown",
   "metadata": {},
   "source": [
    "这个课堂上有一张PPT解释了这个![](2-1.png)"
   ]
  },
  {
   "cell_type": "markdown",
   "metadata": {},
   "source": [
    "H的作用就是表示将y投影到y_hat的变化过程，投影一次和投影多次的效果是一样的，所以$H^{1126}=H$"
   ]
  },
  {
   "cell_type": "markdown",
   "metadata": {},
   "source": [
    "![](3.png)"
   ]
  },
  {
   "cell_type": "markdown",
   "metadata": {},
   "source": [
    "假设y=+1，以横坐标为$w^Tx$，纵坐标为err(w)画图，可知，$err(w) = max(0, 1-yw^Tx)$是上界"
   ]
  },
  {
   "cell_type": "markdown",
   "metadata": {},
   "source": [
    "![](4.png)"
   ]
  },
  {
   "cell_type": "markdown",
   "metadata": {},
   "source": [
    "题意要选在任意点都可以微分即可导的只有$err(w) = \\frac{1}{2}exp(-yw^Tx)$"
   ]
  },
  {
   "cell_type": "markdown",
   "metadata": {},
   "source": [
    "![](5.png)"
   ]
  },
  {
   "cell_type": "markdown",
   "metadata": {},
   "source": [
    "PLA的特征有，当$yw^Tx<0$时进行权重更新$w_t = w_{t-1} + y_nx_n$，忽略一些不可导的点，只有$err(w)=max(0, -yw^Tx)$满足条件"
   ]
  },
  {
   "cell_type": "markdown",
   "metadata": {},
   "source": [
    "![](6.png)"
   ]
  },
  {
   "cell_type": "markdown",
   "metadata": {},
   "source": [
    "$\\frac{\\partial E}{\\partial u} = e^u+ve^{uv}+2u-2v-3$\n",
    "\n",
    "$\\frac{\\partial E}{\\partial v} = 2e^v+ue^{uv}-2u+4v-2$\n",
    "\n",
    "将(u,v)=(0,0)得(-2,0)"
   ]
  },
  {
   "cell_type": "markdown",
   "metadata": {},
   "source": [
    "![](7.png)"
   ]
  },
  {
   "cell_type": "code",
   "execution_count": 4,
   "metadata": {},
   "outputs": [
    {
     "name": "stdout",
     "output_type": "stream",
     "text": [
      "E(u_5,v_5)=2.8249971022993083\n"
     ]
    }
   ],
   "source": [
    "from math import exp\n",
    "u,v=0,0\n",
    "E_u, E_v = exp(u)+v*exp(u*v)+2*u-2*v-3, 2*exp(v)+u*exp(u*v)-2*u+4*v-2\n",
    "eta=0.01\n",
    "for i in range(5):\n",
    "    u,v = u-eta*E_u, v-eta*E_v\n",
    "    E_u, E_v = exp(u)+v*exp(u*v)+2*u-2*v-3, 2*exp(v)+u*exp(u*v)-2*u+4*v-2\n",
    "def E(u,v):\n",
    "    return exp(u)+exp(2*v)+exp(u*v)+u**2-2*u*v+2*(v**2)-3*u-2*v\n",
    "print(\"E(u_5,v_5)={}\".format(E(u,v)))"
   ]
  }
 ],
 "metadata": {
  "kernelspec": {
   "display_name": "Python 3",
   "language": "python",
   "name": "python3"
  },
  "language_info": {
   "codemirror_mode": {
    "name": "ipython",
    "version": 3
   },
   "file_extension": ".py",
   "mimetype": "text/x-python",
   "name": "python",
   "nbconvert_exporter": "python",
   "pygments_lexer": "ipython3",
   "version": "3.7.4"
  }
 },
 "nbformat": 4,
 "nbformat_minor": 2
}
